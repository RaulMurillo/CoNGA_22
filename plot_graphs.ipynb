{
 "cells": [
  {
   "cell_type": "code",
   "execution_count": 1,
   "metadata": {},
   "outputs": [],
   "source": [
    "import pandas as pd\n",
    "import matplotlib.pyplot as plt\n",
    "import matplotlib.ticker as mtick\n",
    "import seaborn as sns\n",
    "import numpy as np"
   ]
  },
  {
   "cell_type": "code",
   "execution_count": 2,
   "metadata": {},
   "outputs": [],
   "source": [
    "sns.set_theme(style=\"whitegrid\")\n",
    "# sns.set_style(\"darkgrid\", {\"axes.facecolor\": \".9\"})\n",
    "sns.set_context(\"paper\")"
   ]
  },
  {
   "cell_type": "markdown",
   "metadata": {},
   "source": [
    "## Addition"
   ]
  },
  {
   "cell_type": "code",
   "execution_count": 3,
   "metadata": {},
   "outputs": [
    {
     "data": {
      "text/html": [
       "<div>\n",
       "<style scoped>\n",
       "    .dataframe tbody tr th:only-of-type {\n",
       "        vertical-align: middle;\n",
       "    }\n",
       "\n",
       "    .dataframe tbody tr th {\n",
       "        vertical-align: top;\n",
       "    }\n",
       "\n",
       "    .dataframe thead th {\n",
       "        text-align: right;\n",
       "    }\n",
       "</style>\n",
       "<table border=\"1\" class=\"dataframe\">\n",
       "  <thead>\n",
       "    <tr style=\"text-align: right;\">\n",
       "      <th></th>\n",
       "      <th>Design</th>\n",
       "      <th>Bits</th>\n",
       "      <th>Exp</th>\n",
       "      <th>Area</th>\n",
       "      <th>Power</th>\n",
       "      <th>Delay</th>\n",
       "      <th>Energy</th>\n",
       "    </tr>\n",
       "  </thead>\n",
       "  <tbody>\n",
       "    <tr>\n",
       "      <th>0</th>\n",
       "      <td>PACoGen</td>\n",
       "      <td>8</td>\n",
       "      <td>1</td>\n",
       "      <td>1072.041611</td>\n",
       "      <td>1.1954</td>\n",
       "      <td>1.81</td>\n",
       "      <td>2.163674</td>\n",
       "    </tr>\n",
       "    <tr>\n",
       "      <th>2</th>\n",
       "      <td>PACoGen</td>\n",
       "      <td>16</td>\n",
       "      <td>1</td>\n",
       "      <td>2207.822421</td>\n",
       "      <td>2.4366</td>\n",
       "      <td>2.70</td>\n",
       "      <td>6.578820</td>\n",
       "    </tr>\n",
       "    <tr>\n",
       "      <th>4</th>\n",
       "      <td>PACoGen</td>\n",
       "      <td>32</td>\n",
       "      <td>2</td>\n",
       "      <td>5144.764831</td>\n",
       "      <td>5.6565</td>\n",
       "      <td>4.07</td>\n",
       "      <td>23.021955</td>\n",
       "    </tr>\n",
       "    <tr>\n",
       "      <th>5</th>\n",
       "      <td>Flo-Posit</td>\n",
       "      <td>8</td>\n",
       "      <td>1</td>\n",
       "      <td>683.020804</td>\n",
       "      <td>0.7207</td>\n",
       "      <td>2.14</td>\n",
       "      <td>1.542298</td>\n",
       "    </tr>\n",
       "    <tr>\n",
       "      <th>7</th>\n",
       "      <td>Flo-Posit</td>\n",
       "      <td>16</td>\n",
       "      <td>1</td>\n",
       "      <td>1500.811205</td>\n",
       "      <td>1.7047</td>\n",
       "      <td>3.03</td>\n",
       "      <td>5.165241</td>\n",
       "    </tr>\n",
       "  </tbody>\n",
       "</table>\n",
       "</div>"
      ],
      "text/plain": [
       "      Design  Bits  Exp         Area   Power  Delay     Energy\n",
       "0    PACoGen     8    1  1072.041611  1.1954   1.81   2.163674\n",
       "2    PACoGen    16    1  2207.822421  2.4366   2.70   6.578820\n",
       "4    PACoGen    32    2  5144.764831  5.6565   4.07  23.021955\n",
       "5  Flo-Posit     8    1   683.020804  0.7207   2.14   1.542298\n",
       "7  Flo-Posit    16    1  1500.811205  1.7047   3.03   5.165241"
      ]
     },
     "execution_count": 3,
     "metadata": {},
     "output_type": "execute_result"
    }
   ],
   "source": [
    "adder_df = pd.read_json(\"Addition/synopsys_results.json\")\n",
    "adder_df = adder_df[(adder_df['Exp']==1) | (adder_df['Bits']==32)]\n",
    "adder_df.head()"
   ]
  },
  {
   "cell_type": "code",
   "execution_count": 4,
   "metadata": {},
   "outputs": [],
   "source": [
    "if False:\n",
    "    aux_adder = adder_df.groupby([\"Design\", \"Bits\"], sort=False).sum()\n",
    "    # print(aux_adder.head())\n",
    "    two_dec = lambda x: \"%.2f\"%(x)\n",
    "    print(aux_adder.to_latex(multirow=True,\n",
    "                            position=\"!t\",\n",
    "                            column_format=\"lccccc\",\n",
    "                            # header=[\"Area (\\\\si{\\\\micro\\\\metre\\\\squared})\", \"Power (\\si{\\milli\\watt})\", \"Delay (\\si{\\nano\\second})\", r\"Energy (\\si{\\pico\\joule})\"],\n",
    "                            formatters=[two_dec, two_dec, two_dec, two_dec],\n",
    "                            caption=\"Synthesis results for different \\positenv{n}{2} adder designs.\"),\n",
    "                            )"
   ]
  },
  {
   "cell_type": "code",
   "execution_count": 5,
   "metadata": {},
   "outputs": [
    {
     "data": {
      "text/html": [
       "<div>\n",
       "<style scoped>\n",
       "    .dataframe tbody tr th:only-of-type {\n",
       "        vertical-align: middle;\n",
       "    }\n",
       "\n",
       "    .dataframe tbody tr th {\n",
       "        vertical-align: top;\n",
       "    }\n",
       "\n",
       "    .dataframe thead tr th {\n",
       "        text-align: left;\n",
       "    }\n",
       "\n",
       "    .dataframe thead tr:last-of-type th {\n",
       "        text-align: right;\n",
       "    }\n",
       "</style>\n",
       "<table border=\"1\" class=\"dataframe\">\n",
       "  <thead>\n",
       "    <tr>\n",
       "      <th></th>\n",
       "      <th></th>\n",
       "      <th colspan=\"4\" halign=\"left\">Area</th>\n",
       "    </tr>\n",
       "    <tr>\n",
       "      <th></th>\n",
       "      <th>Design</th>\n",
       "      <th>PACoGen</th>\n",
       "      <th>Flo-Posit</th>\n",
       "      <th>MArTo</th>\n",
       "      <th>Proposed</th>\n",
       "    </tr>\n",
       "    <tr>\n",
       "      <th>Bits</th>\n",
       "      <th>Exp</th>\n",
       "      <th></th>\n",
       "      <th></th>\n",
       "      <th></th>\n",
       "      <th></th>\n",
       "    </tr>\n",
       "  </thead>\n",
       "  <tbody>\n",
       "    <tr>\n",
       "      <th>8</th>\n",
       "      <th>1</th>\n",
       "      <td>1072.041611</td>\n",
       "      <td>683.020804</td>\n",
       "      <td>585.883201</td>\n",
       "      <td>596.937603</td>\n",
       "    </tr>\n",
       "    <tr>\n",
       "      <th>16</th>\n",
       "      <th>1</th>\n",
       "      <td>2207.822421</td>\n",
       "      <td>1500.811205</td>\n",
       "      <td>1332.408004</td>\n",
       "      <td>1263.494410</td>\n",
       "    </tr>\n",
       "    <tr>\n",
       "      <th>32</th>\n",
       "      <th>2</th>\n",
       "      <td>5144.764831</td>\n",
       "      <td>3393.230403</td>\n",
       "      <td>2929.651213</td>\n",
       "      <td>2622.950420</td>\n",
       "    </tr>\n",
       "  </tbody>\n",
       "</table>\n",
       "</div>"
      ],
      "text/plain": [
       "                 Area                                       \n",
       "Design        PACoGen    Flo-Posit        MArTo     Proposed\n",
       "Bits Exp                                                    \n",
       "8    1    1072.041611   683.020804   585.883201   596.937603\n",
       "16   1    2207.822421  1500.811205  1332.408004  1263.494410\n",
       "32   2    5144.764831  3393.230403  2929.651213  2622.950420"
      ]
     },
     "execution_count": 5,
     "metadata": {},
     "output_type": "execute_result"
    }
   ],
   "source": [
    "area_df = adder_df[[\"Area\", \"Design\", \"Bits\", \"Exp\"]].groupby([\"Design\", \"Bits\", \"Exp\"], sort=False).sum().unstack(0)\n",
    "power_df = adder_df[[\"Power\", \"Design\", \"Bits\", \"Exp\"]].groupby([\"Design\", \"Bits\", \"Exp\"], sort=False).sum().unstack(0)\n",
    "delay_df = adder_df[[\"Delay\", \"Design\", \"Bits\", \"Exp\"]].groupby([\"Design\", \"Bits\", \"Exp\"], sort=False).sum().unstack(0)\n",
    "energy_df = adder_df[[\"Energy\", \"Design\", \"Bits\", \"Exp\"]].groupby([\"Design\", \"Bits\", \"Exp\"], sort=False).sum().unstack(0)\n",
    "\n",
    "area_df.head()"
   ]
  },
  {
   "cell_type": "code",
   "execution_count": 6,
   "metadata": {},
   "outputs": [
    {
     "name": "stdout",
     "output_type": "stream",
     "text": [
      "        [ 8 bits   | 16 bits  | 32 bits  ]\n",
      "area  : [0.12603306 0.15812568 0.22700492]\n",
      "power : [0.14846677 0.25834458 0.32907596]\n",
      "delay : [0.09345794 0.04620462 0.10229645]\n",
      "energy: [0.22804931 0.29261248 0.3977091 ]\n"
     ]
    }
   ],
   "source": [
    "area_gain = (area_df['Area']['Flo-Posit'].values - area_df['Area']['Proposed'].values) / area_df['Area']['Flo-Posit'].values\n",
    "power_gain = (power_df['Power']['Flo-Posit'].values - power_df['Power']['Proposed'].values) / power_df['Power']['Flo-Posit'].values\n",
    "delay_gain = (delay_df['Delay']['Flo-Posit'].values - delay_df['Delay']['Proposed'].values) / delay_df['Delay']['Flo-Posit'].values\n",
    "energy_gain = (energy_df['Energy']['Flo-Posit'].values - energy_df['Energy']['Proposed'].values) / energy_df['Energy']['Flo-Posit'].values\n",
    "\n",
    "print('        [ 8 bits   | 16 bits  | 32 bits  ]')\n",
    "print('area  :', area_gain)\n",
    "print('power :', power_gain)\n",
    "print('delay :', delay_gain)\n",
    "print('energy:', energy_gain)"
   ]
  },
  {
   "cell_type": "code",
   "execution_count": 7,
   "metadata": {},
   "outputs": [
    {
     "data": {
      "image/png": "[encoded data removed]",
      "text/plain": [
       "<Figure size 432x288 with 1 Axes>"
      ]
     },
     "metadata": {},
     "output_type": "display_data"
    }
   ],
   "source": [
    "area_df.plot.bar(\n",
    "                 y=\"Area\",\n",
    "                 rot = 0,\n",
    "                 ylabel=\"Area (µm²)\"\n",
    ")\n",
    "            \n",
    "plt.grid(False, axis=\"x\")\n",
    "plt.show()"
   ]
  },
  {
   "cell_type": "code",
   "execution_count": 8,
   "metadata": {},
   "outputs": [
    {
     "data": {
      "image/png": "[encoded data removed]",
      "text/plain": [
       "<Figure size 432x288 with 1 Axes>"
      ]
     },
     "metadata": {},
     "output_type": "display_data"
    }
   ],
   "source": [
    "power_df.plot.bar(\n",
    "                 y=\"Power\",\n",
    "                 rot = 0,\n",
    "                 ylabel=\"Power (mW)\"\n",
    ")\n",
    "\n",
    "plt.grid(False, axis=\"x\")\n",
    "plt.show()"
   ]
  },
  {
   "cell_type": "code",
   "execution_count": 9,
   "metadata": {},
   "outputs": [
    {
     "data": {
      "image/png": "[encoded data removed]",
      "text/plain": [
       "<Figure size 432x288 with 1 Axes>"
      ]
     },
     "metadata": {},
     "output_type": "display_data"
    }
   ],
   "source": [
    "delay_df.plot.bar(\n",
    "                 y=\"Delay\",\n",
    "                 rot = 0,\n",
    "                 ylabel=\"Delay (ns)\"\n",
    ")\n",
    "\n",
    "plt.grid(False, axis=\"x\")\n",
    "plt.show()"
   ]
  },
  {
   "cell_type": "code",
   "execution_count": 10,
   "metadata": {},
   "outputs": [
    {
     "data": {
      "image/png": "[encoded data removed]",
      "text/plain": [
       "<Figure size 432x288 with 1 Axes>"
      ]
     },
     "metadata": {},
     "output_type": "display_data"
    }
   ],
   "source": [
    "energy_df.plot.bar(\n",
    "                 y=\"Energy\",\n",
    "                 rot = 0,\n",
    "                 ylabel=\"Energy (pJ)\"\n",
    ")\n",
    "\n",
    "plt.grid(False, axis=\"x\")\n",
    "plt.show()"
   ]
  },
  {
   "cell_type": "code",
   "execution_count": 11,
   "metadata": {},
   "outputs": [
    {
     "data": {
      "image/png": "[encoded data removed]",
      "text/plain": [
       "<Figure size 432x288 with 4 Axes>"
      ]
     },
     "metadata": {},
     "output_type": "display_data"
    }
   ],
   "source": [
    "fig, axs = plt.subplots(2, 2)\n",
    "# fig, axs = plt.subplots(2, 2, figsize=(10,6))\n",
    "# fig, axs = plt.subplots(2, 2, figsize=(15,8))\n",
    "\n",
    "area_df.plot.bar(ax=axs[0,0], legend=False,\n",
    "                 y=\"Area\",\n",
    "                 rot = 0,\n",
    "                 ylabel=\"Area (µm²)\",\n",
    "                 width=0.9\n",
    ")\n",
    "axs[0,0].grid(False, axis=\"x\")\n",
    "axs[0,0].set_yticks(np.arange(0,6000,1000))\n",
    "# Display values\n",
    "for i, v in enumerate(area_df.values.flatten()):\n",
    "    axs[0,0].text((i//4)-0.415+(i%4)*0.225 , (v+200 if v < 2500 else v-2200),\n",
    "            str('%.2f' % v), rotation=90,\n",
    "            #color='k', fontweight='bold'\n",
    "            )\n",
    "\n",
    "power_df.plot.bar(ax=axs[0,1], legend=False,\n",
    "                 y=\"Power\",\n",
    "                 rot = 0,\n",
    "                 ylabel=\"Power (mW)\",\n",
    "                 width=0.9\n",
    ")\n",
    "axs[0,1].grid(False, axis=\"x\")\n",
    "axs[0,1].set_yticks(np.arange(0,6,1))\n",
    "# Display values\n",
    "for i, v in enumerate(power_df.values.flatten()):\n",
    "    axs[0,1].text((i//4)-0.415+(i%4)*0.225 , (v+0.25 if v < 2.5 else v-1.5),\n",
    "            str('%.2f' % v), rotation=90,\n",
    "            #color='k', fontweight='bold'\n",
    "            )\n",
    "\n",
    "delay_df.plot.bar(ax=axs[1,0], legend=False,\n",
    "                 y=\"Delay\",\n",
    "                 rot = 0,\n",
    "                 ylabel=\"Delay (ns)\",\n",
    "                 width=0.9\n",
    ")\n",
    "axs[1,0].grid(False, axis=\"x\")\n",
    "axs[1,0].set_yticks(np.arange(0,6,1))\n",
    "# Display values\n",
    "for i, v in enumerate(delay_df.values.flatten()):\n",
    "    axs[1,0].text((i//4)-0.415+(i%4)*0.225 , (v+0.25 if i < 8 else v-1.2),\n",
    "            str('%.2f' % v), rotation=90,\n",
    "            #color='k', fontweight='bold'\n",
    "            )\n",
    "\n",
    "energy_df.plot.bar(ax=axs[1,1], legend=False,\n",
    "                 y=\"Energy\",\n",
    "                 rot = 0,\n",
    "                #  logy=\"sym\",\n",
    "                 ylabel=\"Energy (pJ)\",\n",
    "                 width=0.9\n",
    ")\n",
    "axs[1,1].grid(False, axis=\"x\")\n",
    "# Display values\n",
    "for i, v in enumerate(energy_df.values.flatten()):\n",
    "    axs[1,1].text((i//4)-0.415+(i%4)*0.225 , (v+1 if i < 8 else v-7),\n",
    "            str('%.2f' % v), rotation=90,\n",
    "            #color='k', fontweight='bold'\n",
    "            )\n",
    "\n",
    "# plt.legend(loc=\"upper left\")\n",
    "axLine, axLabel = axs[1,1].get_legend_handles_labels()\n",
    "fig.legend(axLine, axLabel,           \n",
    "           loc = 'upper center',\n",
    "           ncol=4,\n",
    "           bbox_to_anchor=(0.5, 1.05)\n",
    "           )\n",
    "\n",
    "# fig.suptitle(\"Posit Adder synthesis\")\n",
    "fig.tight_layout()\n",
    "\n",
    "plt.savefig(\"figs/adder.pdf\", bbox_inches=\"tight\")\n",
    "plt.show()"
   ]
  },
  {
   "cell_type": "markdown",
   "metadata": {},
   "source": [
    "## Multiplication"
   ]
  },
  {
   "cell_type": "code",
   "execution_count": 12,
   "metadata": {},
   "outputs": [
    {
     "data": {
      "text/html": [
       "<div>\n",
       "<style scoped>\n",
       "    .dataframe tbody tr th:only-of-type {\n",
       "        vertical-align: middle;\n",
       "    }\n",
       "\n",
       "    .dataframe tbody tr th {\n",
       "        vertical-align: top;\n",
       "    }\n",
       "\n",
       "    .dataframe thead th {\n",
       "        text-align: right;\n",
       "    }\n",
       "</style>\n",
       "<table border=\"1\" class=\"dataframe\">\n",
       "  <thead>\n",
       "    <tr style=\"text-align: right;\">\n",
       "      <th></th>\n",
       "      <th>Design</th>\n",
       "      <th>Bits</th>\n",
       "      <th>Exp</th>\n",
       "      <th>Area</th>\n",
       "      <th>Power</th>\n",
       "      <th>Delay</th>\n",
       "      <th>Energy</th>\n",
       "    </tr>\n",
       "  </thead>\n",
       "  <tbody>\n",
       "    <tr>\n",
       "      <th>0</th>\n",
       "      <td>PACoGen</td>\n",
       "      <td>8</td>\n",
       "      <td>1</td>\n",
       "      <td>1154.596807</td>\n",
       "      <td>1.4514</td>\n",
       "      <td>1.55</td>\n",
       "      <td>2.249670</td>\n",
       "    </tr>\n",
       "    <tr>\n",
       "      <th>2</th>\n",
       "      <td>PACoGen</td>\n",
       "      <td>16</td>\n",
       "      <td>1</td>\n",
       "      <td>3355.128017</td>\n",
       "      <td>5.0461</td>\n",
       "      <td>2.53</td>\n",
       "      <td>12.766633</td>\n",
       "    </tr>\n",
       "    <tr>\n",
       "      <th>4</th>\n",
       "      <td>PACoGen</td>\n",
       "      <td>32</td>\n",
       "      <td>2</td>\n",
       "      <td>10309.992072</td>\n",
       "      <td>18.3376</td>\n",
       "      <td>4.47</td>\n",
       "      <td>81.969072</td>\n",
       "    </tr>\n",
       "    <tr>\n",
       "      <th>5</th>\n",
       "      <td>Flo-Posit</td>\n",
       "      <td>8</td>\n",
       "      <td>1</td>\n",
       "      <td>616.224003</td>\n",
       "      <td>0.7376</td>\n",
       "      <td>1.47</td>\n",
       "      <td>1.084272</td>\n",
       "    </tr>\n",
       "    <tr>\n",
       "      <th>7</th>\n",
       "      <td>Flo-Posit</td>\n",
       "      <td>16</td>\n",
       "      <td>1</td>\n",
       "      <td>2250.628813</td>\n",
       "      <td>3.5270</td>\n",
       "      <td>2.74</td>\n",
       "      <td>9.663980</td>\n",
       "    </tr>\n",
       "  </tbody>\n",
       "</table>\n",
       "</div>"
      ],
      "text/plain": [
       "      Design  Bits  Exp          Area    Power  Delay     Energy\n",
       "0    PACoGen     8    1   1154.596807   1.4514   1.55   2.249670\n",
       "2    PACoGen    16    1   3355.128017   5.0461   2.53  12.766633\n",
       "4    PACoGen    32    2  10309.992072  18.3376   4.47  81.969072\n",
       "5  Flo-Posit     8    1    616.224003   0.7376   1.47   1.084272\n",
       "7  Flo-Posit    16    1   2250.628813   3.5270   2.74   9.663980"
      ]
     },
     "execution_count": 12,
     "metadata": {},
     "output_type": "execute_result"
    }
   ],
   "source": [
    "mult_df = pd.read_json(\"Multiplication/synopsys_results.json\")\n",
    "mult_df = mult_df[(mult_df['Exp']==1) | (mult_df['Bits']==32)]\n",
    "mult_df.head()"
   ]
  },
  {
   "cell_type": "code",
   "execution_count": 13,
   "metadata": {},
   "outputs": [
    {
     "data": {
      "text/html": [
       "<div>\n",
       "<style scoped>\n",
       "    .dataframe tbody tr th:only-of-type {\n",
       "        vertical-align: middle;\n",
       "    }\n",
       "\n",
       "    .dataframe tbody tr th {\n",
       "        vertical-align: top;\n",
       "    }\n",
       "\n",
       "    .dataframe thead tr th {\n",
       "        text-align: left;\n",
       "    }\n",
       "\n",
       "    .dataframe thead tr:last-of-type th {\n",
       "        text-align: right;\n",
       "    }\n",
       "</style>\n",
       "<table border=\"1\" class=\"dataframe\">\n",
       "  <thead>\n",
       "    <tr>\n",
       "      <th></th>\n",
       "      <th></th>\n",
       "      <th colspan=\"4\" halign=\"left\">Area</th>\n",
       "    </tr>\n",
       "    <tr>\n",
       "      <th></th>\n",
       "      <th>Design</th>\n",
       "      <th>PACoGen</th>\n",
       "      <th>Flo-Posit</th>\n",
       "      <th>MArTo</th>\n",
       "      <th>Proposed</th>\n",
       "    </tr>\n",
       "    <tr>\n",
       "      <th>Bits</th>\n",
       "      <th>Exp</th>\n",
       "      <th></th>\n",
       "      <th></th>\n",
       "      <th></th>\n",
       "      <th></th>\n",
       "    </tr>\n",
       "  </thead>\n",
       "  <tbody>\n",
       "    <tr>\n",
       "      <th>8</th>\n",
       "      <th>1</th>\n",
       "      <td>1154.596807</td>\n",
       "      <td>616.224003</td>\n",
       "      <td>615.753601</td>\n",
       "      <td>585.412802</td>\n",
       "    </tr>\n",
       "    <tr>\n",
       "      <th>16</th>\n",
       "      <th>1</th>\n",
       "      <td>3355.128017</td>\n",
       "      <td>2250.628813</td>\n",
       "      <td>2170.896009</td>\n",
       "      <td>2070.700813</td>\n",
       "    </tr>\n",
       "    <tr>\n",
       "      <th>32</th>\n",
       "      <th>2</th>\n",
       "      <td>10309.992072</td>\n",
       "      <td>8132.980841</td>\n",
       "      <td>7690.334447</td>\n",
       "      <td>7468.305652</td>\n",
       "    </tr>\n",
       "  </tbody>\n",
       "</table>\n",
       "</div>"
      ],
      "text/plain": [
       "                  Area                                       \n",
       "Design         PACoGen    Flo-Posit        MArTo     Proposed\n",
       "Bits Exp                                                     \n",
       "8    1     1154.596807   616.224003   615.753601   585.412802\n",
       "16   1     3355.128017  2250.628813  2170.896009  2070.700813\n",
       "32   2    10309.992072  8132.980841  7690.334447  7468.305652"
      ]
     },
     "execution_count": 13,
     "metadata": {},
     "output_type": "execute_result"
    }
   ],
   "source": [
    "area_df = mult_df[[\"Area\", \"Design\", \"Bits\", \"Exp\"]].groupby([\"Design\", \"Bits\", \"Exp\"], sort=False).sum().unstack(0)\n",
    "power_df = mult_df[[\"Power\", \"Design\", \"Bits\", \"Exp\"]].groupby([\"Design\", \"Bits\", \"Exp\"], sort=False).sum().unstack(0)\n",
    "delay_df = mult_df[[\"Delay\", \"Design\", \"Bits\", \"Exp\"]].groupby([\"Design\", \"Bits\", \"Exp\"], sort=False).sum().unstack(0)\n",
    "energy_df = mult_df[[\"Energy\", \"Design\", \"Bits\", \"Exp\"]].groupby([\"Design\", \"Bits\", \"Exp\"], sort=False).sum().unstack(0)\n",
    "\n",
    "area_df.head()"
   ]
  },
  {
   "cell_type": "code",
   "execution_count": 14,
   "metadata": {},
   "outputs": [
    {
     "name": "stdout",
     "output_type": "stream",
     "text": [
      "[0.05       0.07994566 0.0817259 ]\n",
      "[-0.07266811  0.04213212  0.07722673]\n",
      "[0.25170068 0.24452555 0.2154195 ]\n",
      "[0.19732318 0.27635529 0.27601009]\n"
     ]
    }
   ],
   "source": [
    "area_gain = (area_df['Area']['Flo-Posit'].values - area_df['Area']['Proposed'].values) / area_df['Area']['Flo-Posit'].values\n",
    "power_gain = (power_df['Power']['Flo-Posit'].values - power_df['Power']['Proposed'].values) / power_df['Power']['Flo-Posit'].values\n",
    "delay_gain = (delay_df['Delay']['Flo-Posit'].values - delay_df['Delay']['Proposed'].values) / delay_df['Delay']['Flo-Posit'].values\n",
    "energy_gain = (energy_df['Energy']['Flo-Posit'].values - energy_df['Energy']['Proposed'].values) / energy_df['Energy']['Flo-Posit'].values\n",
    "\n",
    "\n",
    "print(area_gain)\n",
    "print(power_gain)\n",
    "print(delay_gain)\n",
    "print(energy_gain)"
   ]
  },
  {
   "cell_type": "code",
   "execution_count": 15,
   "metadata": {},
   "outputs": [
    {
     "data": {
      "image/png": "[encoded data removed]",
      "text/plain": [
       "<Figure size 432x288 with 1 Axes>"
      ]
     },
     "metadata": {},
     "output_type": "display_data"
    }
   ],
   "source": [
    "area_df.plot.bar(\n",
    "                 y=\"Area\",\n",
    "                 rot = 0,\n",
    "                 ylabel=\"Area (µm²)\"\n",
    ")\n",
    "\n",
    "plt.grid(False, axis=\"x\")\n",
    "plt.show()"
   ]
  },
  {
   "cell_type": "code",
   "execution_count": 16,
   "metadata": {},
   "outputs": [
    {
     "data": {
      "image/png": "[encoded data removed]",
      "text/plain": [
       "<Figure size 432x288 with 1 Axes>"
      ]
     },
     "metadata": {},
     "output_type": "display_data"
    }
   ],
   "source": [
    "power_df.plot.bar(\n",
    "                 y=\"Power\",\n",
    "                 rot = 0,\n",
    "                 ylabel=\"Power (mW)\"\n",
    ")\n",
    "\n",
    "plt.grid(False, axis=\"x\")\n",
    "plt.show()"
   ]
  },
  {
   "cell_type": "code",
   "execution_count": 17,
   "metadata": {},
   "outputs": [
    {
     "data": {
      "image/png": "[encoded data removed]",
      "text/plain": [
       "<Figure size 432x288 with 1 Axes>"
      ]
     },
     "metadata": {},
     "output_type": "display_data"
    }
   ],
   "source": [
    "delay_df.plot.bar(\n",
    "                 y=\"Delay\",\n",
    "                 rot = 0,\n",
    "                 ylabel=\"Delay (ns)\"\n",
    ")\n",
    "\n",
    "plt.grid(False, axis=\"x\")\n",
    "plt.show()"
   ]
  },
  {
   "cell_type": "code",
   "execution_count": 18,
   "metadata": {},
   "outputs": [
    {
     "data": {
      "image/png": "[encoded data removed]",
      "text/plain": [
       "<Figure size 432x288 with 1 Axes>"
      ]
     },
     "metadata": {},
     "output_type": "display_data"
    }
   ],
   "source": [
    "energy_df.plot.bar(\n",
    "                 y=\"Energy\",\n",
    "                 rot = 0,\n",
    "                 logy=\"sym\",\n",
    "                 ylabel=\"Energy (pJ)\"\n",
    ")\n",
    "\n",
    "plt.grid(False, axis=\"x\")\n",
    "plt.show()"
   ]
  },
  {
   "cell_type": "code",
   "execution_count": 19,
   "metadata": {},
   "outputs": [
    {
     "data": {
      "image/png": "[encoded data removed]",
      "text/plain": [
       "<Figure size 432x288 with 4 Axes>"
      ]
     },
     "metadata": {},
     "output_type": "display_data"
    }
   ],
   "source": [
    "fig, axs = plt.subplots(2, 2)\n",
    "# fig, axs = plt.subplots(2, 2, figsize=(10,6))\n",
    "# fig, axs = plt.subplots(2, 2, figsize=(15,8))\n",
    "\n",
    "area_df.plot.bar(ax=axs[0,0], legend=False,\n",
    "                 y=\"Area\",\n",
    "                 rot = 0,\n",
    "                 ylabel=\"Area (µm²)\",\n",
    "                 width=0.9\n",
    ")\n",
    "axs[0,0].grid(False, axis=\"x\")\n",
    "# axs[0,0].set_yticks(np.arange(0,12000,2000))\n",
    "# Display values\n",
    "for i, v in enumerate(area_df.values.flatten()):\n",
    "    axs[0,0].text((i//4)-0.415+(i%4)*0.225 , (v+500 if v < 5000 else v-5000),\n",
    "            str('%.2f' % v), rotation=90,\n",
    "            #color='k', fontweight='bold'\n",
    "            )\n",
    "\n",
    "power_df.plot.bar(ax=axs[0,1], legend=False,\n",
    "                 y=\"Power\",\n",
    "                 rot = 0,\n",
    "                 ylabel=\"Power (mW)\",\n",
    "                 width=0.9\n",
    ")\n",
    "axs[0,1].grid(False, axis=\"x\")\n",
    "# Display values\n",
    "for i, v in enumerate(power_df.values.flatten()):\n",
    "    axs[0,1].text((i//4)-0.415+(i%4)*0.225 , (v+0.9 if i < 8 else v-6),\n",
    "            str('%.2f' % v), rotation=90,\n",
    "            #color='k', fontweight='bold'\n",
    "            )\n",
    "\n",
    "delay_df.plot.bar(ax=axs[1,0], legend=False,\n",
    "                 y=\"Delay\",\n",
    "                 rot = 0,\n",
    "                 ylabel=\"Delay (ns)\",\n",
    "                 width=0.9\n",
    ")\n",
    "axs[1,0].grid(False, axis=\"x\")\n",
    "# Display values\n",
    "for i, v in enumerate(delay_df.values.flatten()):\n",
    "    axs[1,0].text((i//4)-0.415+(i%4)*0.225 , (v+0.25 if i < 8 else v-1.2),\n",
    "            str('%.2f' % v), rotation=90,\n",
    "            #color='k', fontweight='bold'\n",
    "            )\n",
    "\n",
    "energy_df.plot.bar(ax=axs[1,1], legend=False,\n",
    "                 y=\"Energy\",\n",
    "                 rot = 0,\n",
    "                 logy=\"sym\",\n",
    "                 ylabel=\"Energy (pJ)\",\n",
    "                 width=0.9\n",
    ")\n",
    "axs[1,1].grid(False, axis=\"x\")\n",
    "# Display values\n",
    "for i, v in enumerate(energy_df.values.flatten()):\n",
    "    axs[1,1].text((i//4)-0.415+(i%4)*0.225 , (v+v/3 if i < 8 else v-v/1.15),\n",
    "            str('%.2f' % v), rotation=90,\n",
    "            #color='k', fontweight='bold'\n",
    "            )\n",
    "\n",
    "# plt.legend(loc=\"upper left\")\n",
    "axLine, axLabel = axs[1,1].get_legend_handles_labels()\n",
    "fig.legend(axLine, axLabel,           \n",
    "           loc = 'upper center',\n",
    "           ncol=4,\n",
    "           bbox_to_anchor=(0.5, 1.05)\n",
    "           )\n",
    "\n",
    "# fig.suptitle(\"Posit Multiplier synthesis\")\n",
    "fig.tight_layout()\n",
    "\n",
    "plt.savefig(\"figs/mult.pdf\", bbox_inches=\"tight\")\n",
    "plt.show()"
   ]
  },
  {
   "cell_type": "markdown",
   "metadata": {},
   "source": [
    "## Single component comparison"
   ]
  },
  {
   "cell_type": "code",
   "execution_count": 20,
   "metadata": {},
   "outputs": [],
   "source": [
    "my_color_palette = [\"#246799\", \"#ffa600\"]"
   ]
  },
  {
   "cell_type": "code",
   "execution_count": 21,
   "metadata": {},
   "outputs": [
    {
     "data": {
      "text/html": [
       "<div>\n",
       "<style scoped>\n",
       "    .dataframe tbody tr th:only-of-type {\n",
       "        vertical-align: middle;\n",
       "    }\n",
       "\n",
       "    .dataframe tbody tr th {\n",
       "        vertical-align: top;\n",
       "    }\n",
       "\n",
       "    .dataframe thead th {\n",
       "        text-align: right;\n",
       "    }\n",
       "</style>\n",
       "<table border=\"1\" class=\"dataframe\">\n",
       "  <thead>\n",
       "    <tr style=\"text-align: right;\">\n",
       "      <th></th>\n",
       "      <th>Component</th>\n",
       "      <th>Design</th>\n",
       "      <th>Area</th>\n",
       "      <th>Power</th>\n",
       "      <th>Delay</th>\n",
       "      <th>Energy</th>\n",
       "    </tr>\n",
       "  </thead>\n",
       "  <tbody>\n",
       "    <tr>\n",
       "      <th>0</th>\n",
       "      <td>Decoder</td>\n",
       "      <td>Old</td>\n",
       "      <td>591.057600</td>\n",
       "      <td>0.5896</td>\n",
       "      <td>1.47</td>\n",
       "      <td>0.866712</td>\n",
       "    </tr>\n",
       "    <tr>\n",
       "      <th>1</th>\n",
       "      <td>Decoder</td>\n",
       "      <td>New</td>\n",
       "      <td>392.078402</td>\n",
       "      <td>0.2687</td>\n",
       "      <td>0.88</td>\n",
       "      <td>0.236456</td>\n",
       "    </tr>\n",
       "    <tr>\n",
       "      <th>2</th>\n",
       "      <td>Encoder</td>\n",
       "      <td>Old</td>\n",
       "      <td>843.662399</td>\n",
       "      <td>0.8172</td>\n",
       "      <td>1.14</td>\n",
       "      <td>0.931608</td>\n",
       "    </tr>\n",
       "    <tr>\n",
       "      <th>3</th>\n",
       "      <td>Encoder</td>\n",
       "      <td>New</td>\n",
       "      <td>564.244803</td>\n",
       "      <td>0.5120</td>\n",
       "      <td>0.93</td>\n",
       "      <td>0.476160</td>\n",
       "    </tr>\n",
       "    <tr>\n",
       "      <th>4</th>\n",
       "      <td>Adder</td>\n",
       "      <td>Old</td>\n",
       "      <td>1387.915205</td>\n",
       "      <td>1.4425</td>\n",
       "      <td>2.95</td>\n",
       "      <td>4.255375</td>\n",
       "    </tr>\n",
       "  </tbody>\n",
       "</table>\n",
       "</div>"
      ],
      "text/plain": [
       "  Component Design         Area   Power  Delay    Energy\n",
       "0   Decoder    Old   591.057600  0.5896   1.47  0.866712\n",
       "1   Decoder    New   392.078402  0.2687   0.88  0.236456\n",
       "2   Encoder    Old   843.662399  0.8172   1.14  0.931608\n",
       "3   Encoder    New   564.244803  0.5120   0.93  0.476160\n",
       "4     Adder    Old  1387.915205  1.4425   2.95  4.255375"
      ]
     },
     "execution_count": 21,
     "metadata": {},
     "output_type": "execute_result"
    }
   ],
   "source": [
    "components_df = pd.read_json(\"Misc/synopsys_results.json\")\n",
    "components_df.head()"
   ]
  },
  {
   "cell_type": "code",
   "execution_count": 22,
   "metadata": {},
   "outputs": [],
   "source": [
    "decoder_df = components_df[components_df[\"Component\"]==\"Decoder\"].groupby([\"Design\"], sort=False).sum().T\n",
    "encoder_df = components_df[components_df[\"Component\"]==\"Encoder\"].groupby([\"Design\"], sort=False).sum().T\n",
    "adder_df = components_df[components_df[\"Component\"]==\"Adder\"].groupby([\"Design\"], sort=False).sum().T\n",
    "multiplier_df = components_df[components_df[\"Component\"]==\"Multiplier\"].groupby([\"Design\"], sort=False).sum().T"
   ]
  },
  {
   "cell_type": "code",
   "execution_count": 23,
   "metadata": {},
   "outputs": [],
   "source": [
    "# Normalize results with respect Old decoding format\n",
    "designs = [\"New\", \"Old\"]\n",
    "for d in designs:\n",
    "    decoder_df[d] /= decoder_df[\"Old\"]\n",
    "    encoder_df[d] /= encoder_df[\"Old\"]\n",
    "    adder_df[d] /= adder_df[\"Old\"]\n",
    "    multiplier_df[d] /= multiplier_df[\"Old\"]"
   ]
  },
  {
   "cell_type": "code",
   "execution_count": 24,
   "metadata": {},
   "outputs": [
    {
     "data": {
      "text/html": [
       "<div>\n",
       "<style scoped>\n",
       "    .dataframe tbody tr th:only-of-type {\n",
       "        vertical-align: middle;\n",
       "    }\n",
       "\n",
       "    .dataframe tbody tr th {\n",
       "        vertical-align: top;\n",
       "    }\n",
       "\n",
       "    .dataframe thead th {\n",
       "        text-align: right;\n",
       "    }\n",
       "</style>\n",
       "<table border=\"1\" class=\"dataframe\">\n",
       "  <thead>\n",
       "    <tr style=\"text-align: right;\">\n",
       "      <th>Design</th>\n",
       "      <th>Old</th>\n",
       "      <th>New</th>\n",
       "    </tr>\n",
       "  </thead>\n",
       "  <tbody>\n",
       "    <tr>\n",
       "      <th>Area</th>\n",
       "      <td>1.0</td>\n",
       "      <td>0.663351</td>\n",
       "    </tr>\n",
       "    <tr>\n",
       "      <th>Power</th>\n",
       "      <td>1.0</td>\n",
       "      <td>0.455733</td>\n",
       "    </tr>\n",
       "    <tr>\n",
       "      <th>Delay</th>\n",
       "      <td>1.0</td>\n",
       "      <td>0.598639</td>\n",
       "    </tr>\n",
       "    <tr>\n",
       "      <th>Energy</th>\n",
       "      <td>1.0</td>\n",
       "      <td>0.272820</td>\n",
       "    </tr>\n",
       "  </tbody>\n",
       "</table>\n",
       "</div>"
      ],
      "text/plain": [
       "Design  Old       New\n",
       "Area    1.0  0.663351\n",
       "Power   1.0  0.455733\n",
       "Delay   1.0  0.598639\n",
       "Energy  1.0  0.272820"
      ]
     },
     "execution_count": 24,
     "metadata": {},
     "output_type": "execute_result"
    }
   ],
   "source": [
    "decoder_df\n"
   ]
  },
  {
   "cell_type": "code",
   "execution_count": 25,
   "metadata": {},
   "outputs": [
    {
     "data": {
      "text/html": [
       "<div>\n",
       "<style scoped>\n",
       "    .dataframe tbody tr th:only-of-type {\n",
       "        vertical-align: middle;\n",
       "    }\n",
       "\n",
       "    .dataframe tbody tr th {\n",
       "        vertical-align: top;\n",
       "    }\n",
       "\n",
       "    .dataframe thead th {\n",
       "        text-align: right;\n",
       "    }\n",
       "</style>\n",
       "<table border=\"1\" class=\"dataframe\">\n",
       "  <thead>\n",
       "    <tr style=\"text-align: right;\">\n",
       "      <th>Design</th>\n",
       "      <th>Old</th>\n",
       "      <th>New</th>\n",
       "    </tr>\n",
       "  </thead>\n",
       "  <tbody>\n",
       "    <tr>\n",
       "      <th>Area</th>\n",
       "      <td>1.0</td>\n",
       "      <td>0.668804</td>\n",
       "    </tr>\n",
       "    <tr>\n",
       "      <th>Power</th>\n",
       "      <td>1.0</td>\n",
       "      <td>0.626530</td>\n",
       "    </tr>\n",
       "    <tr>\n",
       "      <th>Delay</th>\n",
       "      <td>1.0</td>\n",
       "      <td>0.815789</td>\n",
       "    </tr>\n",
       "    <tr>\n",
       "      <th>Energy</th>\n",
       "      <td>1.0</td>\n",
       "      <td>0.511116</td>\n",
       "    </tr>\n",
       "  </tbody>\n",
       "</table>\n",
       "</div>"
      ],
      "text/plain": [
       "Design  Old       New\n",
       "Area    1.0  0.668804\n",
       "Power   1.0  0.626530\n",
       "Delay   1.0  0.815789\n",
       "Energy  1.0  0.511116"
      ]
     },
     "execution_count": 25,
     "metadata": {},
     "output_type": "execute_result"
    }
   ],
   "source": [
    "encoder_df"
   ]
  },
  {
   "cell_type": "code",
   "execution_count": 26,
   "metadata": {},
   "outputs": [
    {
     "data": {
      "text/html": [
       "<div>\n",
       "<style scoped>\n",
       "    .dataframe tbody tr th:only-of-type {\n",
       "        vertical-align: middle;\n",
       "    }\n",
       "\n",
       "    .dataframe tbody tr th {\n",
       "        vertical-align: top;\n",
       "    }\n",
       "\n",
       "    .dataframe thead th {\n",
       "        text-align: right;\n",
       "    }\n",
       "</style>\n",
       "<table border=\"1\" class=\"dataframe\">\n",
       "  <thead>\n",
       "    <tr style=\"text-align: right;\">\n",
       "      <th>Design</th>\n",
       "      <th>Old</th>\n",
       "      <th>New</th>\n",
       "    </tr>\n",
       "  </thead>\n",
       "  <tbody>\n",
       "    <tr>\n",
       "      <th>Area</th>\n",
       "      <td>1.0</td>\n",
       "      <td>0.918319</td>\n",
       "    </tr>\n",
       "    <tr>\n",
       "      <th>Power</th>\n",
       "      <td>1.0</td>\n",
       "      <td>0.861560</td>\n",
       "    </tr>\n",
       "    <tr>\n",
       "      <th>Delay</th>\n",
       "      <td>1.0</td>\n",
       "      <td>0.847458</td>\n",
       "    </tr>\n",
       "    <tr>\n",
       "      <th>Energy</th>\n",
       "      <td>1.0</td>\n",
       "      <td>0.730135</td>\n",
       "    </tr>\n",
       "  </tbody>\n",
       "</table>\n",
       "</div>"
      ],
      "text/plain": [
       "Design  Old       New\n",
       "Area    1.0  0.918319\n",
       "Power   1.0  0.861560\n",
       "Delay   1.0  0.847458\n",
       "Energy  1.0  0.730135"
      ]
     },
     "execution_count": 26,
     "metadata": {},
     "output_type": "execute_result"
    }
   ],
   "source": [
    "adder_df"
   ]
  },
  {
   "cell_type": "code",
   "execution_count": 27,
   "metadata": {},
   "outputs": [
    {
     "data": {
      "text/html": [
       "<div>\n",
       "<style scoped>\n",
       "    .dataframe tbody tr th:only-of-type {\n",
       "        vertical-align: middle;\n",
       "    }\n",
       "\n",
       "    .dataframe tbody tr th {\n",
       "        vertical-align: top;\n",
       "    }\n",
       "\n",
       "    .dataframe thead th {\n",
       "        text-align: right;\n",
       "    }\n",
       "</style>\n",
       "<table border=\"1\" class=\"dataframe\">\n",
       "  <thead>\n",
       "    <tr style=\"text-align: right;\">\n",
       "      <th>Design</th>\n",
       "      <th>Old</th>\n",
       "      <th>New</th>\n",
       "    </tr>\n",
       "  </thead>\n",
       "  <tbody>\n",
       "    <tr>\n",
       "      <th>Area</th>\n",
       "      <td>1.0</td>\n",
       "      <td>1.073822</td>\n",
       "    </tr>\n",
       "    <tr>\n",
       "      <th>Power</th>\n",
       "      <td>1.0</td>\n",
       "      <td>1.078652</td>\n",
       "    </tr>\n",
       "    <tr>\n",
       "      <th>Delay</th>\n",
       "      <td>1.0</td>\n",
       "      <td>0.977273</td>\n",
       "    </tr>\n",
       "    <tr>\n",
       "      <th>Energy</th>\n",
       "      <td>1.0</td>\n",
       "      <td>1.054137</td>\n",
       "    </tr>\n",
       "  </tbody>\n",
       "</table>\n",
       "</div>"
      ],
      "text/plain": [
       "Design  Old       New\n",
       "Area    1.0  1.073822\n",
       "Power   1.0  1.078652\n",
       "Delay   1.0  0.977273\n",
       "Energy  1.0  1.054137"
      ]
     },
     "execution_count": 27,
     "metadata": {},
     "output_type": "execute_result"
    }
   ],
   "source": [
    "multiplier_df"
   ]
  },
  {
   "cell_type": "code",
   "execution_count": 45,
   "metadata": {},
   "outputs": [
    {
     "data": {
      "image/png": "[encoded data removed]",
      "text/plain": [
       "<Figure size 576x288 with 1 Axes>"
      ]
     },
     "metadata": {},
     "output_type": "display_data"
    }
   ],
   "source": [
    "ax = decoder_df.plot.bar(\n",
    "                 rot = 0,\n",
    "                #  ylabel=\"Relative resource utilization\",\n",
    "                 color=my_color_palette,\n",
    "                 figsize=(8,3),\n",
    "                #  title=\"Decoder component\"\n",
    ")\n",
    "\n",
    "ax.yaxis.set_major_formatter(mtick.PercentFormatter(1.0))\n",
    "# plt.legend(loc = 'center right',bbox_to_anchor=(1.2, 0.5))\n",
    "plt.legend([\"Classical encoding\", \"Yonemoto's encoding\"],\n",
    "           loc = 'upper center',\n",
    "           ncol=2,\n",
    "           bbox_to_anchor=(0.5, 1.15)\n",
    "           )\n",
    "plt.grid(False, axis=\"x\")\n",
    "plt.savefig(\"figs/decoder_cmp.pdf\", bbox_inches=\"tight\")\n",
    "plt.show()"
   ]
  },
  {
   "cell_type": "code",
   "execution_count": 42,
   "metadata": {},
   "outputs": [
    {
     "data": {
      "image/png": "[encoded data removed]",
      "text/plain": [
       "<Figure size 576x216 with 1 Axes>"
      ]
     },
     "metadata": {},
     "output_type": "display_data"
    }
   ],
   "source": [
    "ax = encoder_df.plot.bar(\n",
    "                 rot = 0,\n",
    "                #  ylabel=\"Relative resource utilization\",\n",
    "                 color=my_color_palette,\n",
    "                 figsize=(8,3),\n",
    "                #  title=\"Encoder component\"\n",
    ")\n",
    "\n",
    "ax.yaxis.set_major_formatter(mtick.PercentFormatter(1.0))\n",
    "# plt.legend(loc = 'center right',bbox_to_anchor=(1.2, 0.5))\n",
    "plt.legend([\"Classical encoding\", \"Yonemoto's encoding\"],\n",
    "           loc = 'upper center',\n",
    "           ncol=2,\n",
    "           bbox_to_anchor=(0.5, 1.15)\n",
    "           )\n",
    "plt.grid(False, axis=\"x\")\n",
    "plt.savefig(\"figs/encoder_cmp.pdf\", bbox_inches=\"tight\")\n",
    "plt.grid(False, axis=\"x\")\n",
    "plt.show()"
   ]
  },
  {
   "cell_type": "code",
   "execution_count": 43,
   "metadata": {},
   "outputs": [
    {
     "data": {
      "image/png": "[encoded data removed]",
      "text/plain": [
       "<Figure size 576x216 with 1 Axes>"
      ]
     },
     "metadata": {},
     "output_type": "display_data"
    }
   ],
   "source": [
    "ax = adder_df.plot.bar(\n",
    "                 rot = 0,\n",
    "                #  ylabel=\"Relative resource utilization\",\n",
    "                 color=my_color_palette,\n",
    "                 figsize=(8,3),\n",
    "                #  title=\"Adder component\"\n",
    ")\n",
    "\n",
    "ax.yaxis.set_major_formatter(mtick.PercentFormatter(1.0))\n",
    "ax.set_ylim(0.50, 1.05)\n",
    "# plt.legend(loc = 'center right',bbox_to_anchor=(1.2, 0.5))\n",
    "plt.legend([\"Classical encoding\", \"Yonemoto's encoding\"],\n",
    "           loc = 'upper center',\n",
    "           ncol=2,\n",
    "           bbox_to_anchor=(0.5, 1.15)\n",
    "           )\n",
    "plt.grid(False, axis=\"x\")\n",
    "plt.savefig(\"figs/adder_cmp.pdf\", bbox_inches=\"tight\")\n",
    "plt.show()"
   ]
  },
  {
   "cell_type": "code",
   "execution_count": 44,
   "metadata": {},
   "outputs": [
    {
     "data": {
      "image/png": "[encoded data removed]",
      "text/plain": [
       "<Figure size 576x216 with 1 Axes>"
      ]
     },
     "metadata": {},
     "output_type": "display_data"
    }
   ],
   "source": [
    "ax = multiplier_df.plot.bar(\n",
    "                 rot = 0,\n",
    "                #  ylabel=\"Relative resource utilization\",\n",
    "                 color=my_color_palette,\n",
    "                 figsize=(8,3),\n",
    "                #  title=\"Multiplier component\"\n",
    ")\n",
    "\n",
    "ax.yaxis.set_major_formatter(mtick.PercentFormatter(1.0))\n",
    "ax.set_ylim(0.50, 1.1)\n",
    "# plt.legend(loc = 'center right',bbox_to_anchor=(1.2, 0.5))\n",
    "plt.legend([\"Classical encoding\", \"Yonemoto's encoding\"],\n",
    "           loc = 'upper center',\n",
    "           ncol=2,\n",
    "           bbox_to_anchor=(0.5, 1.15)\n",
    "           )\n",
    "plt.grid(False, axis=\"x\")\n",
    "plt.savefig(\"figs/multiplier_cmp.pdf\", bbox_inches=\"tight\")\n",
    "plt.show()"
   ]
  }
 ],
 "metadata": {
  "interpreter": {
   "hash": "848437809242ddc122b190cc2a4e0c1302f0f28d1b32fbad0be8f01034358338"
  },
  "kernelspec": {
   "display_name": "Python 3.8.10 64-bit ('venv': venv)",
   "language": "python",
   "name": "python3"
  },
  "language_info": {
   "codemirror_mode": {
    "name": "ipython",
    "version": 3
   },
   "file_extension": ".py",
   "mimetype": "text/x-python",
   "name": "python",
   "nbconvert_exporter": "python",
   "pygments_lexer": "ipython3",
   "version": "3.8.6"
  },
  "orig_nbformat": 4
 },
 "nbformat": 4,
 "nbformat_minor": 2
}
