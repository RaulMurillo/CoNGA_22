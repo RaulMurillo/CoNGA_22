{
 "cells": [
  {
   "cell_type": "code",
   "execution_count": 1,
   "metadata": {},
   "outputs": [],
   "source": [
    "import pandas as pd\n",
    "import matplotlib.pyplot as plt\n",
    "import matplotlib.ticker as mtick\n",
    "import seaborn as sns"
   ]
  },
  {
   "cell_type": "code",
   "execution_count": 2,
   "metadata": {},
   "outputs": [],
   "source": [
    "sns.set_theme(style=\"whitegrid\")\n",
    "# sns.set_style(\"darkgrid\", {\"axes.facecolor\": \".9\"})\n",
    "sns.set_context(\"paper\")"
   ]
  },
  {
   "cell_type": "markdown",
   "metadata": {},
   "source": [
    "## Addition"
   ]
  },
  {
   "cell_type": "code",
   "execution_count": 3,
   "metadata": {},
   "outputs": [
    {
     "data": {
      "text/html": [
       "<div>\n",
       "<style scoped>\n",
       "    .dataframe tbody tr th:only-of-type {\n",
       "        vertical-align: middle;\n",
       "    }\n",
       "\n",
       "    .dataframe tbody tr th {\n",
       "        vertical-align: top;\n",
       "    }\n",
       "\n",
       "    .dataframe thead th {\n",
       "        text-align: right;\n",
       "    }\n",
       "</style>\n",
       "<table border=\"1\" class=\"dataframe\">\n",
       "  <thead>\n",
       "    <tr style=\"text-align: right;\">\n",
       "      <th></th>\n",
       "      <th>Power</th>\n",
       "      <th>Area</th>\n",
       "      <th>Energy</th>\n",
       "      <th>Delay</th>\n",
       "      <th>Design</th>\n",
       "      <th>Bits</th>\n",
       "    </tr>\n",
       "  </thead>\n",
       "  <tbody>\n",
       "    <tr>\n",
       "      <th>0</th>\n",
       "      <td>1.1753</td>\n",
       "      <td>1084.036811</td>\n",
       "      <td>2.256576</td>\n",
       "      <td>1.92</td>\n",
       "      <td>PACoGen</td>\n",
       "      <td>8</td>\n",
       "    </tr>\n",
       "    <tr>\n",
       "      <th>1</th>\n",
       "      <td>2.4828</td>\n",
       "      <td>2231.577620</td>\n",
       "      <td>6.629076</td>\n",
       "      <td>2.67</td>\n",
       "      <td>PACoGen</td>\n",
       "      <td>16</td>\n",
       "    </tr>\n",
       "    <tr>\n",
       "      <th>2</th>\n",
       "      <td>5.6565</td>\n",
       "      <td>5144.764831</td>\n",
       "      <td>23.021955</td>\n",
       "      <td>4.07</td>\n",
       "      <td>PACoGen</td>\n",
       "      <td>32</td>\n",
       "    </tr>\n",
       "    <tr>\n",
       "      <th>3</th>\n",
       "      <td>0.6920</td>\n",
       "      <td>688.430403</td>\n",
       "      <td>1.349400</td>\n",
       "      <td>1.95</td>\n",
       "      <td>FloPosit</td>\n",
       "      <td>8</td>\n",
       "    </tr>\n",
       "    <tr>\n",
       "      <th>4</th>\n",
       "      <td>1.6927</td>\n",
       "      <td>1481.995205</td>\n",
       "      <td>4.942684</td>\n",
       "      <td>2.92</td>\n",
       "      <td>FloPosit</td>\n",
       "      <td>16</td>\n",
       "    </tr>\n",
       "  </tbody>\n",
       "</table>\n",
       "</div>"
      ],
      "text/plain": [
       "    Power         Area     Energy  Delay    Design  Bits\n",
       "0  1.1753  1084.036811   2.256576   1.92   PACoGen     8\n",
       "1  2.4828  2231.577620   6.629076   2.67   PACoGen    16\n",
       "2  5.6565  5144.764831  23.021955   4.07   PACoGen    32\n",
       "3  0.6920   688.430403   1.349400   1.95  FloPosit     8\n",
       "4  1.6927  1481.995205   4.942684   2.92  FloPosit    16"
      ]
     },
     "execution_count": 3,
     "metadata": {},
     "output_type": "execute_result"
    }
   ],
   "source": [
    "adder_df = pd.read_json(\"Addition/synopsys_results.json\")\n",
    "adder_df.head()"
   ]
  },
  {
   "cell_type": "code",
   "execution_count": 4,
   "metadata": {},
   "outputs": [
    {
     "data": {
      "text/html": [
       "<div>\n",
       "<style scoped>\n",
       "    .dataframe tbody tr th:only-of-type {\n",
       "        vertical-align: middle;\n",
       "    }\n",
       "\n",
       "    .dataframe tbody tr th {\n",
       "        vertical-align: top;\n",
       "    }\n",
       "\n",
       "    .dataframe thead tr th {\n",
       "        text-align: left;\n",
       "    }\n",
       "\n",
       "    .dataframe thead tr:last-of-type th {\n",
       "        text-align: right;\n",
       "    }\n",
       "</style>\n",
       "<table border=\"1\" class=\"dataframe\">\n",
       "  <thead>\n",
       "    <tr>\n",
       "      <th></th>\n",
       "      <th colspan=\"4\" halign=\"left\">Area</th>\n",
       "    </tr>\n",
       "    <tr>\n",
       "      <th>Design</th>\n",
       "      <th>PACoGen</th>\n",
       "      <th>FloPosit</th>\n",
       "      <th>MARTo</th>\n",
       "      <th>Proposed</th>\n",
       "    </tr>\n",
       "    <tr>\n",
       "      <th>Bits</th>\n",
       "      <th></th>\n",
       "      <th></th>\n",
       "      <th></th>\n",
       "      <th></th>\n",
       "    </tr>\n",
       "  </thead>\n",
       "  <tbody>\n",
       "    <tr>\n",
       "      <th>8</th>\n",
       "      <td>1084.036811</td>\n",
       "      <td>688.430403</td>\n",
       "      <td>556.718401</td>\n",
       "      <td>576.240003</td>\n",
       "    </tr>\n",
       "    <tr>\n",
       "      <th>16</th>\n",
       "      <td>2231.577620</td>\n",
       "      <td>1481.995205</td>\n",
       "      <td>1293.364804</td>\n",
       "      <td>1176.705608</td>\n",
       "    </tr>\n",
       "    <tr>\n",
       "      <th>32</th>\n",
       "      <td>5144.764831</td>\n",
       "      <td>3393.230403</td>\n",
       "      <td>2929.651213</td>\n",
       "      <td>2622.950420</td>\n",
       "    </tr>\n",
       "  </tbody>\n",
       "</table>\n",
       "</div>"
      ],
      "text/plain": [
       "               Area                                       \n",
       "Design      PACoGen     FloPosit        MARTo     Proposed\n",
       "Bits                                                      \n",
       "8       1084.036811   688.430403   556.718401   576.240003\n",
       "16      2231.577620  1481.995205  1293.364804  1176.705608\n",
       "32      5144.764831  3393.230403  2929.651213  2622.950420"
      ]
     },
     "execution_count": 4,
     "metadata": {},
     "output_type": "execute_result"
    }
   ],
   "source": [
    "area_df = adder_df[[\"Area\", \"Design\", \"Bits\"]].groupby([\"Design\", \"Bits\"], sort=False).sum().unstack(0)\n",
    "power_df = adder_df[[\"Power\", \"Design\", \"Bits\"]].groupby([\"Design\", \"Bits\"], sort=False).sum().unstack(0)\n",
    "delay_df = adder_df[[\"Delay\", \"Design\", \"Bits\"]].groupby([\"Design\", \"Bits\"], sort=False).sum().unstack(0)\n",
    "energy_df = adder_df[[\"Energy\", \"Design\", \"Bits\"]].groupby([\"Design\", \"Bits\"], sort=False).sum().unstack(0)\n",
    "\n",
    "area_df.head()"
   ]
  },
  {
   "cell_type": "code",
   "execution_count": 5,
   "metadata": {},
   "outputs": [
    {
     "data": {
      "image/png": "[encoded data removed]",
      "text/plain": [
       "<Figure size 432x288 with 1 Axes>"
      ]
     },
     "metadata": {},
     "output_type": "display_data"
    }
   ],
   "source": [
    "area_df.plot.bar(\n",
    "                 y=\"Area\",\n",
    "                 rot = 0,\n",
    "                 ylabel=\"Area (µm²)\"\n",
    ")\n",
    "\n",
    "plt.grid(False, axis=\"x\")\n",
    "plt.show()"
   ]
  },
  {
   "cell_type": "code",
   "execution_count": 6,
   "metadata": {},
   "outputs": [
    {
     "data": {
      "image/png": "[encoded data removed]",
      "text/plain": [
       "<Figure size 432x288 with 1 Axes>"
      ]
     },
     "metadata": {},
     "output_type": "display_data"
    }
   ],
   "source": [
    "power_df.plot.bar(\n",
    "                 y=\"Power\",\n",
    "                 rot = 0,\n",
    "                 ylabel=\"Power (mW)\"\n",
    ")\n",
    "\n",
    "plt.grid(False, axis=\"x\")\n",
    "plt.show()"
   ]
  },
  {
   "cell_type": "code",
   "execution_count": 7,
   "metadata": {},
   "outputs": [
    {
     "data": {
      "image/png": "[encoded data removed]",
      "text/plain": [
       "<Figure size 432x288 with 1 Axes>"
      ]
     },
     "metadata": {},
     "output_type": "display_data"
    }
   ],
   "source": [
    "delay_df.plot.bar(\n",
    "                 y=\"Delay\",\n",
    "                 rot = 0,\n",
    "                 ylabel=\"Delay (ns)\"\n",
    ")\n",
    "\n",
    "plt.grid(False, axis=\"x\")\n",
    "plt.show()"
   ]
  },
  {
   "cell_type": "code",
   "execution_count": 8,
   "metadata": {},
   "outputs": [
    {
     "data": {
      "image/png": "[encoded data removed]",
      "text/plain": [
       "<Figure size 432x288 with 1 Axes>"
      ]
     },
     "metadata": {},
     "output_type": "display_data"
    }
   ],
   "source": [
    "energy_df.plot.bar(\n",
    "                 y=\"Energy\",\n",
    "                 rot = 0,\n",
    "                 ylabel=\"Energy (pJ)\"\n",
    ")\n",
    "\n",
    "plt.grid(False, axis=\"x\")\n",
    "plt.show()"
   ]
  },
  {
   "cell_type": "code",
   "execution_count": 9,
   "metadata": {},
   "outputs": [
    {
     "data": {
      "image/png": "[encoded data removed]",
      "text/plain": [
       "<Figure size 432x288 with 4 Axes>"
      ]
     },
     "metadata": {},
     "output_type": "display_data"
    }
   ],
   "source": [
    "fig, axs = plt.subplots(2, 2)\n",
    "# fig, axs = plt.subplots(2, 2, figsize=(10,6))\n",
    "# fig, axs = plt.subplots(2, 2, figsize=(15,8))\n",
    "\n",
    "area_df.plot.bar(ax=axs[0,0], legend=False,\n",
    "                 y=\"Area\",\n",
    "                 rot = 0,\n",
    "                 ylabel=\"Area (µm²)\"\n",
    ")\n",
    "axs[0,0].grid(False, axis=\"x\")\n",
    "\n",
    "power_df.plot.bar(ax=axs[0,1], legend=False,\n",
    "                 y=\"Power\",\n",
    "                 rot = 0,\n",
    "                 ylabel=\"Power (mW)\"\n",
    ")\n",
    "axs[0,1].grid(False, axis=\"x\")\n",
    "\n",
    "delay_df.plot.bar(ax=axs[1,0], legend=False,\n",
    "                 y=\"Delay\",\n",
    "                 rot = 0,\n",
    "                 ylabel=\"Delay (ns)\"\n",
    ")\n",
    "axs[1,0].grid(False, axis=\"x\")\n",
    "\n",
    "energy_df.plot.bar(ax=axs[1,1], legend=False,\n",
    "                 y=\"Energy\",\n",
    "                 rot = 0,\n",
    "                #  logy=\"sym\",\n",
    "                 ylabel=\"Energy (pJ)\"\n",
    ")\n",
    "axs[1,1].grid(False, axis=\"x\")\n",
    "\n",
    "# plt.legend(loc=\"upper left\")\n",
    "axLine, axLabel = axs[1,1].get_legend_handles_labels()\n",
    "fig.legend(axLine, axLabel,           \n",
    "           loc = 'upper center',\n",
    "           ncol=4,\n",
    "           bbox_to_anchor=(0.5, 1.05)\n",
    "           )\n",
    "\n",
    "# fig.suptitle(\"Posit Adder synthesis\")\n",
    "fig.tight_layout()\n",
    "\n",
    "plt.savefig(\"figs/adder.pdf\", bbox_inches=\"tight\")\n",
    "plt.show()"
   ]
  },
  {
   "cell_type": "markdown",
   "metadata": {},
   "source": [
    "## Multiplication"
   ]
  },
  {
   "cell_type": "code",
   "execution_count": 10,
   "metadata": {},
   "outputs": [
    {
     "data": {
      "text/html": [
       "<div>\n",
       "<style scoped>\n",
       "    .dataframe tbody tr th:only-of-type {\n",
       "        vertical-align: middle;\n",
       "    }\n",
       "\n",
       "    .dataframe tbody tr th {\n",
       "        vertical-align: top;\n",
       "    }\n",
       "\n",
       "    .dataframe thead th {\n",
       "        text-align: right;\n",
       "    }\n",
       "</style>\n",
       "<table border=\"1\" class=\"dataframe\">\n",
       "  <thead>\n",
       "    <tr style=\"text-align: right;\">\n",
       "      <th></th>\n",
       "      <th>Power</th>\n",
       "      <th>Area</th>\n",
       "      <th>Energy</th>\n",
       "      <th>Delay</th>\n",
       "      <th>Design</th>\n",
       "      <th>Bits</th>\n",
       "    </tr>\n",
       "  </thead>\n",
       "  <tbody>\n",
       "    <tr>\n",
       "      <th>0</th>\n",
       "      <td>1.2546</td>\n",
       "      <td>1043.817606</td>\n",
       "      <td>1.881900</td>\n",
       "      <td>1.50</td>\n",
       "      <td>PACoGen</td>\n",
       "      <td>8</td>\n",
       "    </tr>\n",
       "    <tr>\n",
       "      <th>1</th>\n",
       "      <td>4.6095</td>\n",
       "      <td>3148.387216</td>\n",
       "      <td>11.754225</td>\n",
       "      <td>2.55</td>\n",
       "      <td>PACoGen</td>\n",
       "      <td>16</td>\n",
       "    </tr>\n",
       "    <tr>\n",
       "      <th>2</th>\n",
       "      <td>18.3376</td>\n",
       "      <td>10309.992072</td>\n",
       "      <td>81.969072</td>\n",
       "      <td>4.47</td>\n",
       "      <td>PACoGen</td>\n",
       "      <td>32</td>\n",
       "    </tr>\n",
       "    <tr>\n",
       "      <th>3</th>\n",
       "      <td>0.6346</td>\n",
       "      <td>557.188803</td>\n",
       "      <td>0.894786</td>\n",
       "      <td>1.41</td>\n",
       "      <td>FloPosit</td>\n",
       "      <td>8</td>\n",
       "    </tr>\n",
       "    <tr>\n",
       "      <th>4</th>\n",
       "      <td>3.1695</td>\n",
       "      <td>2060.116811</td>\n",
       "      <td>8.177310</td>\n",
       "      <td>2.58</td>\n",
       "      <td>FloPosit</td>\n",
       "      <td>16</td>\n",
       "    </tr>\n",
       "  </tbody>\n",
       "</table>\n",
       "</div>"
      ],
      "text/plain": [
       "     Power          Area     Energy  Delay    Design  Bits\n",
       "0   1.2546   1043.817606   1.881900   1.50   PACoGen     8\n",
       "1   4.6095   3148.387216  11.754225   2.55   PACoGen    16\n",
       "2  18.3376  10309.992072  81.969072   4.47   PACoGen    32\n",
       "3   0.6346    557.188803   0.894786   1.41  FloPosit     8\n",
       "4   3.1695   2060.116811   8.177310   2.58  FloPosit    16"
      ]
     },
     "execution_count": 10,
     "metadata": {},
     "output_type": "execute_result"
    }
   ],
   "source": [
    "mult_df = pd.read_json(\"Multiplication/synopsys_results.json\")\n",
    "mult_df.head()"
   ]
  },
  {
   "cell_type": "code",
   "execution_count": 11,
   "metadata": {},
   "outputs": [
    {
     "data": {
      "text/html": [
       "<div>\n",
       "<style scoped>\n",
       "    .dataframe tbody tr th:only-of-type {\n",
       "        vertical-align: middle;\n",
       "    }\n",
       "\n",
       "    .dataframe tbody tr th {\n",
       "        vertical-align: top;\n",
       "    }\n",
       "\n",
       "    .dataframe thead tr th {\n",
       "        text-align: left;\n",
       "    }\n",
       "\n",
       "    .dataframe thead tr:last-of-type th {\n",
       "        text-align: right;\n",
       "    }\n",
       "</style>\n",
       "<table border=\"1\" class=\"dataframe\">\n",
       "  <thead>\n",
       "    <tr>\n",
       "      <th></th>\n",
       "      <th colspan=\"4\" halign=\"left\">Area</th>\n",
       "    </tr>\n",
       "    <tr>\n",
       "      <th>Design</th>\n",
       "      <th>PACoGen</th>\n",
       "      <th>FloPosit</th>\n",
       "      <th>MARTo</th>\n",
       "      <th>Proposed</th>\n",
       "    </tr>\n",
       "    <tr>\n",
       "      <th>Bits</th>\n",
       "      <th></th>\n",
       "      <th></th>\n",
       "      <th></th>\n",
       "      <th></th>\n",
       "    </tr>\n",
       "  </thead>\n",
       "  <tbody>\n",
       "    <tr>\n",
       "      <th>8</th>\n",
       "      <td>1043.817606</td>\n",
       "      <td>557.188803</td>\n",
       "      <td>545.664000</td>\n",
       "      <td>516.499201</td>\n",
       "    </tr>\n",
       "    <tr>\n",
       "      <th>16</th>\n",
       "      <td>3148.387216</td>\n",
       "      <td>2060.116811</td>\n",
       "      <td>1962.273608</td>\n",
       "      <td>1883.952011</td>\n",
       "    </tr>\n",
       "    <tr>\n",
       "      <th>32</th>\n",
       "      <td>10309.992072</td>\n",
       "      <td>8132.980841</td>\n",
       "      <td>7690.334447</td>\n",
       "      <td>7468.305652</td>\n",
       "    </tr>\n",
       "  </tbody>\n",
       "</table>\n",
       "</div>"
      ],
      "text/plain": [
       "                Area                                       \n",
       "Design       PACoGen     FloPosit        MARTo     Proposed\n",
       "Bits                                                       \n",
       "8        1043.817606   557.188803   545.664000   516.499201\n",
       "16       3148.387216  2060.116811  1962.273608  1883.952011\n",
       "32      10309.992072  8132.980841  7690.334447  7468.305652"
      ]
     },
     "execution_count": 11,
     "metadata": {},
     "output_type": "execute_result"
    }
   ],
   "source": [
    "area_df = mult_df[[\"Area\", \"Design\", \"Bits\"]].groupby([\"Design\", \"Bits\"], sort=False).sum().unstack(0)\n",
    "power_df = mult_df[[\"Power\", \"Design\", \"Bits\"]].groupby([\"Design\", \"Bits\"], sort=False).sum().unstack(0)\n",
    "delay_df = mult_df[[\"Delay\", \"Design\", \"Bits\"]].groupby([\"Design\", \"Bits\"], sort=False).sum().unstack(0)\n",
    "energy_df = mult_df[[\"Energy\", \"Design\", \"Bits\"]].groupby([\"Design\", \"Bits\"], sort=False).sum().unstack(0)\n",
    "\n",
    "area_df.head()"
   ]
  },
  {
   "cell_type": "code",
   "execution_count": 12,
   "metadata": {},
   "outputs": [
    {
     "data": {
      "image/png": "[encoded data removed]",
      "text/plain": [
       "<Figure size 432x288 with 1 Axes>"
      ]
     },
     "metadata": {},
     "output_type": "display_data"
    }
   ],
   "source": [
    "area_df.plot.bar(\n",
    "                 y=\"Area\",\n",
    "                 rot = 0,\n",
    "                 ylabel=\"Area (µm²)\"\n",
    ")\n",
    "\n",
    "plt.grid(False, axis=\"x\")\n",
    "plt.show()"
   ]
  },
  {
   "cell_type": "code",
   "execution_count": 13,
   "metadata": {},
   "outputs": [
    {
     "data": {
      "image/png": "[encoded data removed]",
      "text/plain": [
       "<Figure size 432x288 with 1 Axes>"
      ]
     },
     "metadata": {},
     "output_type": "display_data"
    }
   ],
   "source": [
    "power_df.plot.bar(\n",
    "                 y=\"Power\",\n",
    "                 rot = 0,\n",
    "                 ylabel=\"Power (mW)\"\n",
    ")\n",
    "\n",
    "plt.grid(False, axis=\"x\")\n",
    "plt.show()"
   ]
  },
  {
   "cell_type": "code",
   "execution_count": 14,
   "metadata": {},
   "outputs": [
    {
     "data": {
      "image/png": "[encoded data removed]",
      "text/plain": [
       "<Figure size 432x288 with 1 Axes>"
      ]
     },
     "metadata": {},
     "output_type": "display_data"
    }
   ],
   "source": [
    "delay_df.plot.bar(\n",
    "                 y=\"Delay\",\n",
    "                 rot = 0,\n",
    "                 ylabel=\"Delay (ns)\"\n",
    ")\n",
    "\n",
    "plt.grid(False, axis=\"x\")\n",
    "plt.show()"
   ]
  },
  {
   "cell_type": "code",
   "execution_count": 15,
   "metadata": {},
   "outputs": [
    {
     "data": {
      "image/png": "[encoded data removed]",
      "text/plain": [
       "<Figure size 432x288 with 1 Axes>"
      ]
     },
     "metadata": {},
     "output_type": "display_data"
    }
   ],
   "source": [
    "energy_df.plot.bar(\n",
    "                 y=\"Energy\",\n",
    "                 rot = 0,\n",
    "                 logy=\"sym\",\n",
    "                 ylabel=\"Energy (pJ)\"\n",
    ")\n",
    "\n",
    "plt.grid(False, axis=\"x\")\n",
    "plt.show()"
   ]
  },
  {
   "cell_type": "code",
   "execution_count": 16,
   "metadata": {},
   "outputs": [
    {
     "data": {
      "image/png": "[encoded data removed]",
      "text/plain": [
       "<Figure size 432x288 with 4 Axes>"
      ]
     },
     "metadata": {},
     "output_type": "display_data"
    }
   ],
   "source": [
    "fig, axs = plt.subplots(2, 2)\n",
    "# fig, axs = plt.subplots(2, 2, figsize=(10,6))\n",
    "# fig, axs = plt.subplots(2, 2, figsize=(15,8))\n",
    "\n",
    "area_df.plot.bar(ax=axs[0,0], legend=False,\n",
    "                 y=\"Area\",\n",
    "                 rot = 0,\n",
    "                 ylabel=\"Area (µm²)\"\n",
    ")\n",
    "axs[0,0].grid(False, axis=\"x\")\n",
    "\n",
    "power_df.plot.bar(ax=axs[0,1], legend=False,\n",
    "                 y=\"Power\",\n",
    "                 rot = 0,\n",
    "                 ylabel=\"Power (mW)\"\n",
    ")\n",
    "axs[0,1].grid(False, axis=\"x\")\n",
    "\n",
    "delay_df.plot.bar(ax=axs[1,0], legend=False,\n",
    "                 y=\"Delay\",\n",
    "                 rot = 0,\n",
    "                 ylabel=\"Delay (ns)\"\n",
    ")\n",
    "axs[1,0].grid(False, axis=\"x\")\n",
    "\n",
    "energy_df.plot.bar(ax=axs[1,1], legend=False,\n",
    "                 y=\"Energy\",\n",
    "                 rot = 0,\n",
    "                 logy=\"sym\",\n",
    "                 ylabel=\"Energy (pJ)\"\n",
    ")\n",
    "axs[1,1].grid(False, axis=\"x\")\n",
    "\n",
    "# plt.legend(loc=\"upper left\")\n",
    "axLine, axLabel = axs[1,1].get_legend_handles_labels()\n",
    "fig.legend(axLine, axLabel,           \n",
    "           loc = 'upper center',\n",
    "           ncol=4,\n",
    "           bbox_to_anchor=(0.5, 1.05)\n",
    "           )\n",
    "\n",
    "# fig.suptitle(\"Posit Multiplier synthesis\")\n",
    "fig.tight_layout()\n",
    "\n",
    "plt.savefig(\"figs/mult.pdf\", bbox_inches=\"tight\")\n",
    "plt.show()"
   ]
  },
  {
   "cell_type": "markdown",
   "metadata": {},
   "source": [
    "## Single component comparison"
   ]
  },
  {
   "cell_type": "code",
   "execution_count": 17,
   "metadata": {},
   "outputs": [
    {
     "data": {
      "text/html": [
       "<div>\n",
       "<style scoped>\n",
       "    .dataframe tbody tr th:only-of-type {\n",
       "        vertical-align: middle;\n",
       "    }\n",
       "\n",
       "    .dataframe tbody tr th {\n",
       "        vertical-align: top;\n",
       "    }\n",
       "\n",
       "    .dataframe thead th {\n",
       "        text-align: right;\n",
       "    }\n",
       "</style>\n",
       "<table border=\"1\" class=\"dataframe\">\n",
       "  <thead>\n",
       "    <tr style=\"text-align: right;\">\n",
       "      <th></th>\n",
       "      <th>Component</th>\n",
       "      <th>Design</th>\n",
       "      <th>Area</th>\n",
       "      <th>Power</th>\n",
       "      <th>Delay</th>\n",
       "      <th>Energy</th>\n",
       "    </tr>\n",
       "  </thead>\n",
       "  <tbody>\n",
       "    <tr>\n",
       "      <th>0</th>\n",
       "      <td>Decoder</td>\n",
       "      <td>Old</td>\n",
       "      <td>591.057600</td>\n",
       "      <td>0.5896</td>\n",
       "      <td>1.47</td>\n",
       "      <td>0.866712</td>\n",
       "    </tr>\n",
       "    <tr>\n",
       "      <th>1</th>\n",
       "      <td>Decoder</td>\n",
       "      <td>New</td>\n",
       "      <td>392.078402</td>\n",
       "      <td>0.2687</td>\n",
       "      <td>0.88</td>\n",
       "      <td>0.236456</td>\n",
       "    </tr>\n",
       "    <tr>\n",
       "      <th>2</th>\n",
       "      <td>Encoder</td>\n",
       "      <td>Old</td>\n",
       "      <td>843.662399</td>\n",
       "      <td>0.8172</td>\n",
       "      <td>1.14</td>\n",
       "      <td>0.931608</td>\n",
       "    </tr>\n",
       "    <tr>\n",
       "      <th>3</th>\n",
       "      <td>Encoder</td>\n",
       "      <td>New</td>\n",
       "      <td>564.244803</td>\n",
       "      <td>0.5120</td>\n",
       "      <td>0.93</td>\n",
       "      <td>0.476160</td>\n",
       "    </tr>\n",
       "    <tr>\n",
       "      <th>4</th>\n",
       "      <td>Adder</td>\n",
       "      <td>Old</td>\n",
       "      <td>1387.915205</td>\n",
       "      <td>1.4425</td>\n",
       "      <td>2.95</td>\n",
       "      <td>4.255375</td>\n",
       "    </tr>\n",
       "  </tbody>\n",
       "</table>\n",
       "</div>"
      ],
      "text/plain": [
       "  Component Design         Area   Power  Delay    Energy\n",
       "0   Decoder    Old   591.057600  0.5896   1.47  0.866712\n",
       "1   Decoder    New   392.078402  0.2687   0.88  0.236456\n",
       "2   Encoder    Old   843.662399  0.8172   1.14  0.931608\n",
       "3   Encoder    New   564.244803  0.5120   0.93  0.476160\n",
       "4     Adder    Old  1387.915205  1.4425   2.95  4.255375"
      ]
     },
     "execution_count": 17,
     "metadata": {},
     "output_type": "execute_result"
    }
   ],
   "source": [
    "components_df = pd.read_json(\"Misc/synopsys_results.json\")\n",
    "components_df.head()"
   ]
  },
  {
   "cell_type": "code",
   "execution_count": 18,
   "metadata": {},
   "outputs": [],
   "source": [
    "decoder_df = components_df[components_df[\"Component\"]==\"Decoder\"].groupby([\"Design\"], sort=False).sum().T\n",
    "encoder_df = components_df[components_df[\"Component\"]==\"Encoder\"].groupby([\"Design\"], sort=False).sum().T\n",
    "adder_df = components_df[components_df[\"Component\"]==\"Adder\"].groupby([\"Design\"], sort=False).sum().T\n",
    "multiplier_df = components_df[components_df[\"Component\"]==\"Multiplier\"].groupby([\"Design\"], sort=False).sum().T"
   ]
  },
  {
   "cell_type": "code",
   "execution_count": 19,
   "metadata": {},
   "outputs": [],
   "source": [
    "# Normalize results with respect Old decoding format\n",
    "designs = [\"New\", \"Old\"]\n",
    "for d in designs:\n",
    "    decoder_df[d] /= decoder_df[\"Old\"]\n",
    "    encoder_df[d] /= encoder_df[\"Old\"]\n",
    "    adder_df[d] /= adder_df[\"Old\"]\n",
    "    multiplier_df[d] /= multiplier_df[\"Old\"]"
   ]
  },
  {
   "cell_type": "code",
   "execution_count": 25,
   "metadata": {},
   "outputs": [
    {
     "data": {
      "image/png": "[encoded data removed]",
      "text/plain": [
       "<Figure size 432x288 with 1 Axes>"
      ]
     },
     "metadata": {},
     "output_type": "display_data"
    }
   ],
   "source": [
    "ax = decoder_df.plot.bar(\n",
    "                 rot = 0,\n",
    "                 ylabel=\"Relative resource utilization\",\n",
    "                #  title=\"Decoder component\"\n",
    ")\n",
    "\n",
    "ax.yaxis.set_major_formatter(mtick.PercentFormatter(1.0))\n",
    "# plt.legend(loc = 'center right',bbox_to_anchor=(1.2, 0.5))\n",
    "plt.legend(loc = 'upper center',\n",
    "           ncol=2,\n",
    "           bbox_to_anchor=(0.5, 1.12)\n",
    "           )\n",
    "plt.grid(False, axis=\"x\")\n",
    "plt.savefig(\"figs/decoder_cmp.pdf\", bbox_inches=\"tight\")\n",
    "plt.show()"
   ]
  },
  {
   "cell_type": "code",
   "execution_count": 24,
   "metadata": {},
   "outputs": [
    {
     "data": {
      "image/png": "[encoded data removed]",
      "text/plain": [
       "<Figure size 432x288 with 1 Axes>"
      ]
     },
     "metadata": {},
     "output_type": "display_data"
    }
   ],
   "source": [
    "ax = encoder_df.plot.bar(\n",
    "                 rot = 0,\n",
    "                 ylabel=\"Relative resource utilization\",\n",
    "                #  title=\"Encoder component\"\n",
    ")\n",
    "\n",
    "ax.yaxis.set_major_formatter(mtick.PercentFormatter(1.0))\n",
    "# plt.legend(loc = 'center right',bbox_to_anchor=(1.2, 0.5))\n",
    "plt.legend(loc = 'upper center',\n",
    "           ncol=2,\n",
    "           bbox_to_anchor=(0.5, 1.12)\n",
    "           )\n",
    "plt.grid(False, axis=\"x\")\n",
    "plt.savefig(\"figs/encoder_cmp.pdf\", bbox_inches=\"tight\")\n",
    "plt.grid(False, axis=\"x\")\n",
    "plt.show()"
   ]
  },
  {
   "cell_type": "code",
   "execution_count": 26,
   "metadata": {},
   "outputs": [
    {
     "data": {
      "image/png": "[encoded data removed]",
      "text/plain": [
       "<Figure size 432x288 with 1 Axes>"
      ]
     },
     "metadata": {},
     "output_type": "display_data"
    }
   ],
   "source": [
    "ax = adder_df.plot.bar(\n",
    "                 rot = 0,\n",
    "                 ylabel=\"Relative resource utilization\",\n",
    "                #  title=\"Adder component\"\n",
    ")\n",
    "\n",
    "ax.yaxis.set_major_formatter(mtick.PercentFormatter(1.0))\n",
    "# plt.legend(loc = 'center right',bbox_to_anchor=(1.2, 0.5))\n",
    "plt.legend(loc = 'upper center',\n",
    "           ncol=2,\n",
    "           bbox_to_anchor=(0.5, 1.12)\n",
    "           )\n",
    "plt.grid(False, axis=\"x\")\n",
    "plt.savefig(\"figs/adder_cmp.pdf\", bbox_inches=\"tight\")\n",
    "plt.show()"
   ]
  },
  {
   "cell_type": "code",
   "execution_count": 27,
   "metadata": {},
   "outputs": [
    {
     "data": {
      "image/png": "[encoded data removed]",
      "text/plain": [
       "<Figure size 432x288 with 1 Axes>"
      ]
     },
     "metadata": {},
     "output_type": "display_data"
    }
   ],
   "source": [
    "ax = multiplier_df.plot.bar(\n",
    "                 rot = 0,\n",
    "                 ylabel=\"Relative resource utilization\",\n",
    "                #  title=\"Multiplier component\"\n",
    ")\n",
    "\n",
    "ax.yaxis.set_major_formatter(mtick.PercentFormatter(1.0))\n",
    "# plt.legend(loc = 'center right',bbox_to_anchor=(1.2, 0.5))\n",
    "plt.legend(loc = 'upper center',\n",
    "           ncol=2,\n",
    "           bbox_to_anchor=(0.5, 1.12)\n",
    "           )\n",
    "plt.grid(False, axis=\"x\")\n",
    "plt.savefig(\"figs/mutiplier_cmp.pdf\", bbox_inches=\"tight\")\n",
    "plt.show()"
   ]
  }
 ],
 "metadata": {
  "interpreter": {
   "hash": "848437809242ddc122b190cc2a4e0c1302f0f28d1b32fbad0be8f01034358338"
  },
  "kernelspec": {
   "display_name": "Python 3.8.10 64-bit ('venv': venv)",
   "language": "python",
   "name": "python3"
  },
  "language_info": {
   "codemirror_mode": {
    "name": "ipython",
    "version": 3
   },
   "file_extension": ".py",
   "mimetype": "text/x-python",
   "name": "python",
   "nbconvert_exporter": "python",
   "pygments_lexer": "ipython3",
   "version": "3.8.6"
  },
  "orig_nbformat": 4
 },
 "nbformat": 4,
 "nbformat_minor": 2
}
